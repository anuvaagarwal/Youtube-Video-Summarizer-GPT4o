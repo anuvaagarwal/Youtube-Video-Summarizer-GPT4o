{
 "cells": [
  {
   "cell_type": "code",
   "execution_count": null,
   "id": "cb83263b-9b45-4809-b96c-7871ba174abd",
   "metadata": {
    "scrolled": true
   },
   "outputs": [],
   "source": [
    "pip install youtube-transcript-api"
   ]
  },
  {
   "cell_type": "code",
   "execution_count": null,
   "id": "a768a560-eb45-4dc3-b23a-6a70f35157ce",
   "metadata": {
    "scrolled": true
   },
   "outputs": [],
   "source": [
    "import re\n",
    "\n",
    "youtube_url = \"https://www.youtube.com/watch?v=PZ7lDrwYdZc&t=1437s&ab_channel=EscapingOrdinary%28B.CMarx%29\"\n",
    "\n",
    "# extract video ID with regex\n",
    "video_id_regex = r'(?:v=|\\/)([0-9A-Za-z_-]{11}).*'\n",
    "match = re.search(video_id_regex, youtube_url)\n",
    "\n",
    "a = []\n",
    "if match:\n",
    "    a.append(match.group(1))\n",
    "else:\n",
    "    a.append(None)\n",
    "\n",
    "a"
   ]
  },
  {
   "cell_type": "code",
   "execution_count": 67,
   "id": "a76684e9-07d7-4cc9-b702-234e5f930e5f",
   "metadata": {},
   "outputs": [
    {
     "data": {
      "text/plain": [
       "['yhJZv2LEANY']"
      ]
     },
     "execution_count": 67,
     "metadata": {},
     "output_type": "execute_result"
    }
   ],
   "source": [
    "import re\n",
    "\n",
    "youtube_url = \"https://www.youtube.com/watch?v=yhJZv2LEANY&ab_channel=SewaInternationalUSA\"\n",
    "\n",
    "# extract video ID with regex\n",
    "video_id_regex = r'(?:v=|\\/)([0-9A-Za-z_-]{11}).*'\n",
    "match = re.search(video_id_regex, youtube_url)\n",
    "\n",
    "a = []\n",
    "if match:\n",
    "    a.append(match.group(1))\n",
    "else:\n",
    "    a.append(None)\n",
    "\n",
    "a"
   ]
  },
  {
   "cell_type": "code",
   "execution_count": 68,
   "id": "c5d7e5ec-5959-4b14-81ee-cdbccb37c263",
   "metadata": {
    "scrolled": true
   },
   "outputs": [],
   "source": [
    "from youtube_transcript_api import YouTubeTranscriptApi\n",
    "\n",
    "v1_transcript_dict = YouTubeTranscriptApi.get_transcript(a[0])"
   ]
  },
  {
   "cell_type": "code",
   "execution_count": 69,
   "id": "315b77f0-b618-48ec-b8c3-618cb1b92960",
   "metadata": {
    "scrolled": true
   },
   "outputs": [
    {
     "data": {
      "text/plain": [
       "[{'text': 'in the calm after the storm when the',\n",
       "  'start': 1.719,\n",
       "  'duration': 5.8},\n",
       " {'text': 'headlines fade the True Story begins',\n",
       "  'start': 3.8,\n",
       "  'duration': 5.719},\n",
       " {'text': \"volunteering it's a simple act of\",\n",
       "  'start': 7.519,\n",
       "  'duration': 3.641},\n",
       " {'text': \"showing up and lending a hand where it's\",\n",
       "  'start': 9.519,\n",
       "  'duration': 3.801},\n",
       " {'text': 'needed by those who see beyond', 'start': 11.16, 'duration': 4.24},\n",
       " {'text': 'themselves to the collective fabric of',\n",
       "  'start': 13.32,\n",
       "  'duration': 5.119},\n",
       " {'text': \"community and care it's real people in\",\n",
       "  'start': 15.4,\n",
       "  'duration': 6.0},\n",
       " {'text': 'real communities making real', 'start': 18.439, 'duration': 5.641},\n",
       " {'text': 'progress volunteerism is more than an',\n",
       "  'start': 21.4,\n",
       "  'duration': 5.84},\n",
       " {'text': \"act it's a commitment and here at SAA we\",\n",
       "  'start': 24.08,\n",
       "  'duration': 5.199},\n",
       " {'text': 'pledge to extend kindness and Aid to',\n",
       "  'start': 27.24,\n",
       "  'duration': 4.48},\n",
       " {'text': \"where it's needed most when challenges\",\n",
       "  'start': 29.279,\n",
       "  'duration': 5.521},\n",
       " {'text': 'arise when Nature tests are resolved We',\n",
       "  'start': 31.72,\n",
       "  'duration': 6.04},\n",
       " {'text': 'rise not as individuals but as a', 'start': 34.8, 'duration': 5.4},\n",
       " {'text': 'coalition of courage and Care', 'start': 37.76, 'duration': 4.16},\n",
       " {'text': 'volunteering has helped me grow as a',\n",
       "  'start': 40.2,\n",
       "  'duration': 3.76},\n",
       " {'text': 'person too has taught me the value of',\n",
       "  'start': 41.92,\n",
       "  'duration': 3.639},\n",
       " {'text': 'selfless service to others and how a',\n",
       "  'start': 43.96,\n",
       "  'duration': 3.96},\n",
       " {'text': 'tiny service can make a great difference',\n",
       "  'start': 45.559,\n",
       "  'duration': 4.041},\n",
       " {'text': \"there's always something for everyone\",\n",
       "  'start': 47.92,\n",
       "  'duration': 3.279},\n",
       " {'text': 'such as participating in fundraiser',\n",
       "  'start': 49.6,\n",
       "  'duration': 3.92},\n",
       " {'text': 'events working on a local shelter or',\n",
       "  'start': 51.199,\n",
       "  'duration': 4.481},\n",
       " {'text': 'even creating Community programs for the',\n",
       "  'start': 53.52,\n",
       "  'duration': 4.719},\n",
       " {'text': 'community yeah I feel like uh we learned',\n",
       "  'start': 55.68,\n",
       "  'duration': 4.399},\n",
       " {'text': 'a lot from this experience you know made',\n",
       "  'start': 58.239,\n",
       "  'duration': 3.16},\n",
       " {'text': 'meet a lot of friends you know we pick',\n",
       "  'start': 60.079,\n",
       "  'duration': 2.921},\n",
       " {'text': 'up trash help out the environment you',\n",
       "  'start': 61.399,\n",
       "  'duration': 4.08},\n",
       " {'text': 'get to establish really good friendships',\n",
       "  'start': 63.0,\n",
       "  'duration': 5.36},\n",
       " {'text': 'and learn from other people and also',\n",
       "  'start': 65.479,\n",
       "  'duration': 4.401},\n",
       " {'text': 'just have a good time I think', 'start': 68.36, 'duration': 4.32},\n",
       " {'text': 'volunteering is like super fun if you',\n",
       "  'start': 69.88,\n",
       "  'duration': 4.76},\n",
       " {'text': \"know you're going to be able to make a\",\n",
       "  'start': 72.68,\n",
       "  'duration': 4.119},\n",
       " {'text': 'change especially in your community',\n",
       "  'start': 74.64,\n",
       "  'duration': 3.479},\n",
       " {'text': \"whether it's making a meal for someone\",\n",
       "  'start': 76.799,\n",
       "  'duration': 3.0},\n",
       " {'text': \"who can't afford or putting up Flags to\",\n",
       "  'start': 78.119,\n",
       "  'duration': 4.0},\n",
       " {'text': \"honor someone I've experienced the power\",\n",
       "  'start': 79.799,\n",
       "  'duration': 4.68},\n",
       " {'text': 'of us volunteers making such a big',\n",
       "  'start': 82.119,\n",
       "  'duration': 4.801},\n",
       " {'text': 'difference and I hope that we can all',\n",
       "  'start': 84.479,\n",
       "  'duration': 4.441},\n",
       " {'text': 'better ourselves and help the places',\n",
       "  'start': 86.92,\n",
       "  'duration': 3.28},\n",
       " {'text': 'that are in need together together we',\n",
       "  'start': 88.92,\n",
       "  'duration': 4.0},\n",
       " {'text': 'can create a better future for all these',\n",
       "  'start': 90.2,\n",
       "  'duration': 5.36},\n",
       " {'text': 'experiences of selflessness shared by',\n",
       "  'start': 92.92,\n",
       "  'duration': 4.44},\n",
       " {'text': \"those who've walked this path are\",\n",
       "  'start': 95.56,\n",
       "  'duration': 4.519},\n",
       " {'text': 'testimonies of growth and gratitude from',\n",
       "  'start': 97.36,\n",
       "  'duration': 6.079},\n",
       " {'text': 'teaching rebuilding to conserving each',\n",
       "  'start': 100.079,\n",
       "  'duration': 5.161},\n",
       " {'text': 'volunteer carries a chapter of the',\n",
       "  'start': 103.439,\n",
       "  'duration': 4.521},\n",
       " {'text': 'shared Journey their stories reflect a',\n",
       "  'start': 105.24,\n",
       "  'duration': 5.36},\n",
       " {'text': 'profound impact where action resonates',\n",
       "  'start': 107.96,\n",
       "  'duration': 5.68},\n",
       " {'text': 'louder than words when I was a kid I',\n",
       "  'start': 110.6,\n",
       "  'duration': 5.96},\n",
       " {'text': 'volunteered when I was in 4 age I helped',\n",
       "  'start': 113.64,\n",
       "  'duration': 4.96},\n",
       " {'text': 'with a lot of different Community',\n",
       "  'start': 116.56,\n",
       "  'duration': 5.559},\n",
       " {'text': 'projects and you carry that when you',\n",
       "  'start': 118.6,\n",
       "  'duration': 7.24},\n",
       " {'text': 'become an adult so I encourage any kid',\n",
       "  'start': 122.119,\n",
       "  'duration': 5.64},\n",
       " {'text': 'to get involved with an', 'start': 125.84, 'duration': 4.52},\n",
       " {'text': 'organization do things that help your',\n",
       "  'start': 127.759,\n",
       "  'duration': 5.721},\n",
       " {'text': 'community and parents encourage your',\n",
       "  'start': 130.36,\n",
       "  'duration': 6.239},\n",
       " {'text': 'kids to volunteer because when you look',\n",
       "  'start': 133.48,\n",
       "  'duration': 6.64},\n",
       " {'text': \"what's going on around this world it's\",\n",
       "  'start': 136.599,\n",
       "  'duration': 6.561},\n",
       " {'text': 'the volunteers that are work making this',\n",
       "  'start': 140.12,\n",
       "  'duration': 6.8},\n",
       " {'text': \"world better for all of us we're\",\n",
       "  'start': 143.16,\n",
       "  'duration': 5.6},\n",
       " {'text': 'inviting you to be a part of the',\n",
       "  'start': 146.92,\n",
       "  'duration': 4.72},\n",
       " {'text': 'solution volunteering is about real',\n",
       "  'start': 148.76,\n",
       "  'duration': 5.72},\n",
       " {'text': \"people making a real impact it's about\",\n",
       "  'start': 151.64,\n",
       "  'duration': 4.8},\n",
       " {'text': 'doing the work that needs to be done and',\n",
       "  'start': 154.48,\n",
       "  'duration': 4.039},\n",
       " {'text': 'creating a sense of community along the',\n",
       "  'start': 156.44,\n",
       "  'duration': 5.36},\n",
       " {'text': 'way every volunteer adds to the momentum',\n",
       "  'start': 158.519,\n",
       "  'duration': 5.8},\n",
       " {'text': 'pushing us towards a better future join',\n",
       "  'start': 161.8,\n",
       "  'duration': 5.88},\n",
       " {'text': 'in take part and see what we can build',\n",
       "  'start': 164.319,\n",
       "  'duration': 6.961},\n",
       " {'text': 'together together with Saba together',\n",
       "  'start': 167.68,\n",
       "  'duration': 8.279},\n",
       " {'text': 'with americorp we serve', 'start': 171.28, 'duration': 4.679}]"
      ]
     },
     "execution_count": 69,
     "metadata": {},
     "output_type": "execute_result"
    }
   ],
   "source": [
    "v1_transcript_dict"
   ]
  },
  {
   "cell_type": "code",
   "execution_count": 70,
   "id": "215ef211-848f-4db1-9955-c7d7c2ff2f65",
   "metadata": {},
   "outputs": [],
   "source": [
    "# v1_transcript = []\n",
    "# for i in v1_transcript_dict:\n",
    "#     v1_transcript.append(i['text'])\n",
    "\n",
    "v1_transcript = [i['text'] for i in v1_transcript_dict]"
   ]
  },
  {
   "cell_type": "code",
   "execution_count": 71,
   "id": "eb83f6fd-5084-4985-8f16-fab23e2eb28a",
   "metadata": {
    "scrolled": true
   },
   "outputs": [
    {
     "data": {
      "text/plain": [
       "['in the calm after the storm when the',\n",
       " 'headlines fade the True Story begins',\n",
       " \"volunteering it's a simple act of\",\n",
       " \"showing up and lending a hand where it's\",\n",
       " 'needed by those who see beyond',\n",
       " 'themselves to the collective fabric of',\n",
       " \"community and care it's real people in\",\n",
       " 'real communities making real',\n",
       " 'progress volunteerism is more than an',\n",
       " \"act it's a commitment and here at SAA we\",\n",
       " 'pledge to extend kindness and Aid to',\n",
       " \"where it's needed most when challenges\",\n",
       " 'arise when Nature tests are resolved We',\n",
       " 'rise not as individuals but as a',\n",
       " 'coalition of courage and Care',\n",
       " 'volunteering has helped me grow as a',\n",
       " 'person too has taught me the value of',\n",
       " 'selfless service to others and how a',\n",
       " 'tiny service can make a great difference',\n",
       " \"there's always something for everyone\",\n",
       " 'such as participating in fundraiser',\n",
       " 'events working on a local shelter or',\n",
       " 'even creating Community programs for the',\n",
       " 'community yeah I feel like uh we learned',\n",
       " 'a lot from this experience you know made',\n",
       " 'meet a lot of friends you know we pick',\n",
       " 'up trash help out the environment you',\n",
       " 'get to establish really good friendships',\n",
       " 'and learn from other people and also',\n",
       " 'just have a good time I think',\n",
       " 'volunteering is like super fun if you',\n",
       " \"know you're going to be able to make a\",\n",
       " 'change especially in your community',\n",
       " \"whether it's making a meal for someone\",\n",
       " \"who can't afford or putting up Flags to\",\n",
       " \"honor someone I've experienced the power\",\n",
       " 'of us volunteers making such a big',\n",
       " 'difference and I hope that we can all',\n",
       " 'better ourselves and help the places',\n",
       " 'that are in need together together we',\n",
       " 'can create a better future for all these',\n",
       " 'experiences of selflessness shared by',\n",
       " \"those who've walked this path are\",\n",
       " 'testimonies of growth and gratitude from',\n",
       " 'teaching rebuilding to conserving each',\n",
       " 'volunteer carries a chapter of the',\n",
       " 'shared Journey their stories reflect a',\n",
       " 'profound impact where action resonates',\n",
       " 'louder than words when I was a kid I',\n",
       " 'volunteered when I was in 4 age I helped',\n",
       " 'with a lot of different Community',\n",
       " 'projects and you carry that when you',\n",
       " 'become an adult so I encourage any kid',\n",
       " 'to get involved with an',\n",
       " 'organization do things that help your',\n",
       " 'community and parents encourage your',\n",
       " 'kids to volunteer because when you look',\n",
       " \"what's going on around this world it's\",\n",
       " 'the volunteers that are work making this',\n",
       " \"world better for all of us we're\",\n",
       " 'inviting you to be a part of the',\n",
       " 'solution volunteering is about real',\n",
       " \"people making a real impact it's about\",\n",
       " 'doing the work that needs to be done and',\n",
       " 'creating a sense of community along the',\n",
       " 'way every volunteer adds to the momentum',\n",
       " 'pushing us towards a better future join',\n",
       " 'in take part and see what we can build',\n",
       " 'together together with Saba together',\n",
       " 'with americorp we serve']"
      ]
     },
     "execution_count": 71,
     "metadata": {},
     "output_type": "execute_result"
    }
   ],
   "source": [
    "v1_transcript"
   ]
  },
  {
   "cell_type": "code",
   "execution_count": 72,
   "id": "75f2641f-7f3e-4c30-b289-f62271590a7b",
   "metadata": {
    "scrolled": true
   },
   "outputs": [
    {
     "name": "stdout",
     "output_type": "stream",
     "text": [
      "in the calm after the storm when the headlines fade the True Story begins volunteering it's a simple act of showing up and lending a hand where it's needed by those who see beyond themselves to the collective fabric of community and care it's real people in real communities making real progress volunteerism is more than an act it's a commitment and here at SAA we pledge to extend kindness and Aid to where it's needed most when challenges arise when Nature tests are resolved We rise not as individuals but as a coalition of courage and Care volunteering has helped me grow as a person too has taught me the value of selfless service to others and how a tiny service can make a great difference there's always something for everyone such as participating in fundraiser events working on a local shelter or even creating Community programs for the community yeah I feel like uh we learned a lot from this experience you know made meet a lot of friends you know we pick up trash help out the environment you get to establish really good friendships and learn from other people and also just have a good time I think volunteering is like super fun if you know you're going to be able to make a change especially in your community whether it's making a meal for someone who can't afford or putting up Flags to honor someone I've experienced the power of us volunteers making such a big difference and I hope that we can all better ourselves and help the places that are in need together together we can create a better future for all these experiences of selflessness shared by those who've walked this path are testimonies of growth and gratitude from teaching rebuilding to conserving each volunteer carries a chapter of the shared Journey their stories reflect a profound impact where action resonates louder than words when I was a kid I volunteered when I was in 4 age I helped with a lot of different Community projects and you carry that when you become an adult so I encourage any kid to get involved with an organization do things that help your community and parents encourage your kids to volunteer because when you look what's going on around this world it's the volunteers that are work making this world better for all of us we're inviting you to be a part of the solution volunteering is about real people making a real impact it's about doing the work that needs to be done and creating a sense of community along the way every volunteer adds to the momentum pushing us towards a better future join in take part and see what we can build together together with Saba together with americorp we serve\n"
     ]
    }
   ],
   "source": [
    "cleaned_transcript = [re.sub(r\"\\\\+\", '', text.replace('\\xa0\\\\', ' ').replace('\\n', ' ')) for text in v1_transcript]\n",
    "\n",
    "# As list comprehension but this is not removing literal backslash\n",
    "# cleaned_transcript = [text.replace('\\xa0\\\\', ' ').replace('\\n', ' ') for text in v1_transcript]\n",
    "\n",
    "# Join the cleaned list into one paragraph\n",
    "para = ' '.join(cleaned_transcript)\n",
    "\n",
    "# Remove any extra spaces\n",
    "para = ' '.join(para.split())\n",
    "    # para # Writing just para would mean I still get the literal backslashes in my output. Example:\n",
    "    # text = \"you\\'re\"\n",
    "    # print(text)\n",
    "print(para)"
   ]
  },
  {
   "cell_type": "code",
   "execution_count": 44,
   "id": "dfce1e9d-9667-4047-9b77-c186eed78ad7",
   "metadata": {
    "scrolled": true
   },
   "outputs": [],
   "source": [
    "# !pip install pyperclip\n",
    "import pyperclip\n",
    "\n",
    "# Copy the output to the clipboard\n",
    "pyperclip.copy(para)\n",
    "\n",
    "# You can also retrieve the text from the clipboard with:\n",
    "# clipboard_content = pyperclip.paste()\n"
   ]
  },
  {
   "cell_type": "code",
   "execution_count": 46,
   "id": "510f982d-139c-4cd8-8a7d-13f728dc62b2",
   "metadata": {
    "scrolled": true
   },
   "outputs": [],
   "source": [
    "# !pip install openai\n",
    "import openai"
   ]
  },
  {
   "cell_type": "code",
   "execution_count": 47,
   "id": "325ac5dd-218f-42b6-b20b-352917cba41b",
   "metadata": {},
   "outputs": [],
   "source": [
    "openai.api_key = \"your_api_key\""
   ]
  },
  {
   "cell_type": "code",
   "execution_count": 57,
   "id": "06ba2f87-d803-420a-ba63-046642523be1",
   "metadata": {
    "scrolled": true
   },
   "outputs": [
    {
     "name": "stdout",
     "output_type": "stream",
     "text": [
      "\n",
      "        Please summarize and add punctuation to the following video transcript. Remove uppercase where required.\n",
      "        Please limit summary to 200 words.\n",
      "        This is the start of the transcript.\n",
      "        Do you ever feel like you're just floating through life...but not actually getting closer to the person that you want to be. It usually happens around New years, you imagine all the bad habits your going to break free from, and all the good habits you will begin. “This time it will be different” you say to yourself. This time I AM going to do the things that I say I will. Only to end up back where you began shortly after and no closer to what you had envisaged. So the question is, how do you become the person you dream of becoming? How do you break free from bad habits and make the habits you desire easier and automatic? Atomic Habits by James Clear answers all these questions. We are going to be doing a detailed visual summary of this book, And dive deep into topics like Habit loops Dopamine spikes Priming your environment Plus heaps more And make sure to stick around until the end of the video where we tie everything together from the video and I go step by step through how I've personally been using this book with my own habits and how you can start applying it to your own habits. I hope this summary inspires you to go out and grab a copy of the book for yourself because this book deserves a space on everyone’s bookshelf! Let’s jump into it Imagine a plane taking off and travelling from New York to Los Angeles. Just before takeoff you adjust the plane just slightly by 3 degrees or around 80 inches. If you kept flying in a straight line...You would end up closer to Tijuana in Mexico than in your intended destination of Los Angeles. The same goes for our habits. Tiny changes in our habits can change the trajectory of our lives in ways that we can’t even notice until many years into the future looking back. In both good ways and bad. You are your habits. The Power of Atomic Habits “A slight change in your daily habits can guide your life to a very different destination”. Massive action Vs 1% improvements Far too often, we convince ourselves that massive success is only possible through massive action in any goal we are pursuing. We expect ourselves to make some quantum leap or momentous improvement that will gain others attention. However it is the tiny improvements, that aren’t even noticeable at first, that create incredible change. Let’s look deeper into the Math 1% better every day for a year will compound to nearly 38 times better. 1% worse every day for over a year will bring you close to zero! Your habits can compound against you in the form of things like stress or negative self-talk. Or they can compound for you in the form of things like knowledge, productivity, skills and relationships. “Success is the product of daily habits—not once-in a lifetime transformations” The Truth About progress When you start any endeavour in your life, here is what we think should happen. Linear progress. Here is what actually happens. Notice this section here. In the beginning, small changes in our progress are not even noticeable. James Clear refers to this part of the graph as “the valley of disappointment” You’ve done so much! Put in so much effort and you can barely see any results! This is where most people fail and slip back into their old routines. The most powerful outcomes of any compounding process are delayed so Patience is required. Goals Vs Systems. “ FORGET ABOUT GOALS, FOCUS ON SYSTEMS INSTEAD” A goal is the result you want to accomplish. Systems deal with the processes that lead to results. The conventional wisdom suggests that the best way to achieve anything we want in life-getting into better shape, building a successful business, spending more time with family is to set specific, realistic goals. But if you completely ignored your goals and focused only on your system, would you still succeed? The Author argues that you would. Here are some problems with only having goals. Successful and unsuccessful people share the same goals, so therefore the goal can not be what differentiates winners from losers. Achieving a goal only changes your life for a moment in time. Goals can create an either-or conflict. Either you achieve the goal and succeed, or you don’t and you are a failure. Even if you were making progress in the right direction When you achieve a goal, what do you do after? If your goal was running the local marathon, chances are after completing it, your motivation will quickly fade and you will just slip back into your old routines. “Goals are good for setting a direction, but systems are best for making progress” A SYSTEM OF ATOMIC HABITS The problem with changing your habits is not you. The reason why you repeat the same bad habit for so long isn't because you don't want to change, but because you have the wrong system for change. Atomic habits are small routines and behaviors that accumulate to produce incremental positive outcomes over time. Big breakthroughs tend to get more attention than small improvements. But what really matters are the little daily decisions and actions we take. “Just as atoms are the building blocks of molecules, atomic habits are the building blocks of remarkable results”. There are 3 layers to behavior change. The first layer is changing outcomes.The result. Losing that weight, writing that book, winning the season. The outcomes are what you get The Second layer is changing your process. What you do. The new workout routine, developing a daily reading habit. And the third layer is changing your identity. What you believe. Your worldviews and how you think about yourself and others. Most people focus on the outcomes but the best way to change your habits is by focusing on the person you want to become instead of the results you want. The goal isn’t to learn an instrument, it is to become a musician. The goal isn’t to run a marathon, It is to become a runner. When something you want in your life becomes part of your identity, that is when your behaviors will naturally change. When you tell yourself and others “I’m a runner”. You want to live up to that identity. Remind yourself Every Time you do a workout, you are an athlete. Every time you write a line of code, you are a coder. Each time you instruct your team, you are a leader. The Habit Loop A habit is when something has been repeated enough times that it becomes automatic. Ultimately we want our habits to solve problems in our lives with the least amount of effort. A habit is formed and reinforced by means of a continuous feedback loop: Cue + Craving + Response + Reward. The key to creating habits that stick is to create feedback loops that are continuously being improved. Cue. Phone buzz. Craving. Want to know who messaged. Response. Pick up phone. Reward. Solve the problem of who messaged. Cue. Mind goes blank at work. Craving. Want to alleviate the frustration. Response. Check social media. Reward. Satisfied the need to feel less frustrated Over time, rewards become associated with cues. So, in this example, checking social media becomes tied to your mind going blank at work. And then checking Facebook may be the cue to check Instagram, which becomes the cue to check YouTube. And before you know it, your mind going blank cue has led to 20 minutes of wasted time. And you more you repeat these habit loops, the stronger and more automatic they become. Cues can really be anything. A smell, a sound a sight, a person, a location etc. Try to think of any cues in your daily life that are initiating your good or bad habit loops. So how can we influence the habit loop to work for us? This book shows us the 4 laws that will guide us to do just that. Law 1 Make it obvious Most of your current habits are so automatic that you don’t even realize them. You must first become aware of your habits before you can change them. You can achieve that with your Habit Scorecard. Write down all your daily behaviors on a habits scorecard, from the moment you wake up until the moment you go to bed. Your scorecard may look something like this. Based on whether it helps you become the person you aspire to be, categorize each habit as positive (+), negative (-), or neutral (=). At this stage we aren’t trying to change anything, just observe what is actually going on in our daily lives. “Until you make the unconscious conscious, it will direct your life and you will call it fate.” Carl Yung Vagueness is a real problem when it comes to habit formation, and studies have shown that quite often the reason people fail to stick to a habit is not because of a lack of motivation, but because of a lack of clarity. “One day, I will get into shape” is easy to say to yourself but too vague to get any momentum. What you need is a time and a place. The most common cues—time and location—will help you achieve your goals. Clearly state your intention to act using the following formula: I will behavior at time in this location. Here is a bad example, “I will read more this month” Here is a good example “I will read a book for 15 minutes daily at 6am in the spare bedroom”. Another good way to get a habit started is by Habit stacking. To stack habits, tie a desired habit to an existing habit according to the following formula: “After [current habit], I will [new habit]”. For example, “After I brush my teeth, I will stretch for 5 minutes”. You can stack habits together, for example after you finish brushing your teeth, you will meditate for 10 minutes, then plan the rest of your day, before checking social media. A “chain of habits” is more likely to be sustained if you practice this consistently. Choosing the correct trigger is essential. YOU NEED A TRIGGER CUE Your trigger should be; something that you do automatically without fail during your day, such as waking up, turning off your alarm or brushing your teeth. James Clear tells us in the book that Motivation is highly overrated. You can better shape your behavior by designing your environment. We are more influenced by our environment than our willpower or motivation. It’s hard to stick to positive habits in a negative environment. “Environment is the invisible hand that shapes human behavior.” Creating a habit requires you to redesign the space around you (home/work) to 1 - make it easier to see the cues for the desired habits and 2 - avert bad habits by making them invisible. If you want to drink more water, make the cues visible and obvious. Place water bottles around the house in places you are likely to see them. Want to read more? place the book somewhere you will see it. If you want to get better on the guitar, don’t leave it out of sight in a closet. CONTEXT IS THE CUE Objects in the environment do not determine our behavior; rather, it is our relationship to them that does. Stop seeing your environment as a place simply filled with objects. Imagine it as a place filled with relationships. The couch in the living room is the place where one person reads an hour a night. For another, the couch is where they watch Netflix and eat pizza and relax after work. If your relationship with the couch is a place to relax, then trying to get a work related task done in that environment may be difficult. Try to make separate zones in your house for different activities. The author likes to use the mantra “One space, One use” If you are trying to eliminate a bad habit, You can only rely on self-control in the short-term. Cutting off bad habits at the source is a more reliable solution and one of the most practical ways to eliminate a bad habit is to make it invisible. Eliminate it from your environment. For example Put your phone in another room for a few hours if you have trouble getting work done. Put junk food out of sight or remove it from your house if you are trying to lose weight. Law 2 Making it Attractive When we expect to be rewarded, we take action. The more rewarding an action is, the more likely we are to repeat it until it becomes a habit. Hence, the first step to forming good habits is to make them more attractive. Understanding how dopamine affects your body will help you DOPAMINE & FEEDBACK LOOPS Our motivation levels are affected by dopamine, a hormone and neurotransmitter. We are more motivated to act when our dopamine levels rise. By measuring dopamine, scientists can pinpoint the exact moment at which a craving occurs. It was once assumed that dopamine was just about pleasure, but now we know it's vital to many neurological functions, including motivation, memory, learning, punishment as well as voluntary movement. “Gambling addicts have a dopamine spike right before they place a bet, not after they win”. Let’s dive deeper into dopamine spikes. Using social media, eating junk food and taking drugs are all associated with high levels of dopamine and are highly habit forming. The hormone dopamine is released not only when we experience pleasure, but also when we anticipate it. Think about before going on a vacation. Sometimes the thinking and anticipation of the vacation is better than the actual vacation. Seeing the junk food you desire surges dopamine, not after eating it. Drug addicts increase dopamine when they see the drugs, not after taking them. The craving is what causes us to take action in the first place. Making our habits attractive is vital because it is the expectation of a rewarding experience that drives us to act. Here, you can use a strategy known as…. Temptation bundling The temptation bundling process makes a habit more attractive by combining an action we need to do with one we want to do. For example you could bundle watching Netflix (something you want to do) with working out (something you need to do). Temptation bundling applies a psychology principle known as Premack's Principle. Developed by professor David Premack, the Premack principle states, \"More probable behaviors will reinforce less probable behaviors.\" In other words, even if you're not looking forward to doing some exercise, you'll become conditioned to do it because you get to do something else you really enjoy. Group Influence “We are continually wondering \"What will others think of me?\" and altering our behavior based on the answer.” We are influenced by the people closest to us, and the groups we belong to. If you are trying to build a new habit, one of the best ways to reinforce the habit is to find and become part of a culture where that habit is the norm. If you want to get into better shape, surround yourself with fit people. If you want to read more, join a book club. Primal motivators : The source of cravings In your normal everyday life you wouldn’t say something to yourself like “I want to eat this pizza because I need to consume this food to survive” Surface level cravings are merely manifestations of our deeper underlying motives. And these underlying motives guide our behavior. Here are some examples of underlying motives: Conserving energy Obtaining food and water Finding love and reproducing Connecting and bonding with others Winning social acceptance and approval Reducing uncertainty Achieving status and prestige Your brain did not evolve with a desire to smoke cigarettes, check Instagram every 5 minutes or to play video games. Online platforms and products do not invent new motivations, but rather appeal to the underlying motives of human nature that we already have to gain our attention. “Your habits are modern-day solutions to ancient desires. New versions of old vices. The underlying motives behind human nature remain the same” People who have the underlying motive of connecting with others may jump onto Facebook, others seeking the underlying motive of finding love and reproducing may sign up for Tinder. Reducing uncertainty, there’s Google for that. Seeking social acceptance, there is Instagram. Reprogramming your brain to enjoy hard habits “You can make hard habits more attractive if you can learn to associate them with a positive experience.” By highlighting the benefits of a habit rather than its downsides, you can quickly reprogram your mind and make it seem more appealing. For example, Fitness = health and wellbeing and not fatigue. Cleaning the house = an environment conducive to peace of mind and not wasted time. Saving money = future financial freedom and not sacrifice. These subtle shifts in mindset aren't magic, but they can change your feelings toward some habits or situations. Make it Unattractive. To break a bad habit, do the same but highlight the benefits of NOT doing that habit to make it as unattractive to keep doing as possible. Law 3 - Make it Easy How long does it actually take to form a new habit? During habit formation, a behavior becomes increasingly automatic as it is repeated. As you repeat an activity, your brain changes in order to become more efficient at it. Long before neuroscientists dug into the process of forming habits, repetition was known as a powerful tool for establishing habits. You activate particular neural circuits associated with habits every time you repeat them. So framing habit formation in terms of time is flawed. It should be framed in terms of the number of repetitions. Reducing Friction : The Law of Least Effort The more energy required, the less likely it is to happen. It takes almost no energy to get into the habit of reading one page of a book each day. Habits are more likely to occur when they require less energy. The bigger the obstacle, the more friction there is between you and the desired outcome. If you need to travel 20 minutes out of your way to go to the gym, chances are you will not. If your gym is located on your commute to work, you will greatly decrease the friction. By making your good habits more convenient, you're more likely to stick to them. Your life will be easier if you find ways to reduce friction rather than trying to solve it. In order to build better habits, we have to find ways to reduce friction associated with our good habits and increase friction associated with our bad habits Prime the environment for use By automating or setting up your environment, you can reduce the friction for future action, e.g. “I will lay out my workout clothes at night so I can get up and get moving in the morning.” Or to prepare a healthier breakfast, place the pan on the stove, and gather the ingredients the night before. Again to reduce any friction. Using the Two-Minute Rule to Stop Procrastinating Using the \"2-minute rule\" can help you establish small habits that will lead to habit momentum and success in bigger goals. Find a simple, 2-minute version of your desired habit. You want to scale down your desired outcome. Running a marathon becomes putting on your shoes and stretching for 2 minutes. Reading an hour per day becomes reading one page. You need to get the routine anchored in place and then slowly build up the difficulty. After you have mastered the 2-minute habit, you can progress to the next phase; To make something more difficult, think about ways you can create barriers of friction between yourself and the bad habit. Make it as impractical as possible. If you want to watch less TV, unplug the TV after each use and put the remote in an inconvenient location. When you go shopping, leave your credit cards under the seat of your car if you have a bad habit of spontaneous spending. Do anything you can to make your Bad habits less likely to occur. Law 4 -Make it satisfying The most important rule of behavior change A feeling of pleasure is a message to the brain: \"This feels good. Let’s repeat this next time.\" When you experience pleasure, your brain learns that a behavior is worth remembering and repeating. \"What is immediately rewarded is repeated. What is immediately punished is avoided\". The first Three habits increase your chances of doing the habit this time. The last law increases your chances of repeating the habit next time. The Mismatch between immediate and delayed returns It is common for us to feel good about our immediate results, but bad about our long-term outcomes when we practice bad habits. It is the opposite with good habits: the immediate result is unpleasant, but the ultimate outcome is satisfying. A certain amount of success in just about every field involves ignoring an immediate reward for a long-term one. It is best to add a little immediate pleasure to the habits that will pay off in the long run and a little pain to those that won't. How to stick with good habits everyday QUOTE “The vital thing in getting a habit to stick is to feel successful—even if it’s in a small way. The feeling of success is a signal that your habit paid off and that the work was worth the effort.” It is satisfying to make progress, and you can monitor your progress using visual measures, such as moving paper clips, hairpins, or marbles. These “little wins” can go a long way. For example, for each sales call you make today, move a marble from one jar to the complete jar. For Each 25 minutes of writing, move a paperclip Visual measurements can take many forms: diet journals, workout logs, download progress bars, or even page numbers in a book. Keeping a habit tracker may be the best method to monitor your progress. Using a habit tracker is a simple way to determine whether you did a particular habit. How to recover quickly when your habits break down In spite of your best efforts, it is inevitable that life will interrupt you at some point. A bad day at work, a bad performance, or a bad workout can happen to anyone. When you're having a bad day, you don't realize how valuable it is to just show up. “Lost days hurt you more than successful days help you.” Don’t break the chain of continuity. Missing twice is the start of a bad habit; never do it. On a bad day, it's better to do 10 sit ups (instead of your normal 50) than not do them at all. Breaking a bad habit: Make it Unsatisfying How an accountability partner can change everything. A behavior is less likely to occur when pain is immediate. Being held accountable by a partner is a good way to keep your desired habits in check. We all want to be liked and respected, so we would rather just avoid the punishment. For example - I owe you $10 every time I miss a workout, plus the respect I lose for failing to do what I said I would! Behavior is more likely to be influenced by concrete, and immediate consequences. The Habit Contract You can create a habit contract to hold yourself accountable, just as governments use laws to hold citizens accountable. You can create a habit contract either verbally or in writing, which makes it clear that you will honor a particular habit and that there will be punishments if you do not. You can then use your accountability partners to enforce that contract. Ok so it’s one thing to read a book, but another to actually apply it to your life. So i’m going to try and visually represent how I have personally been using this book to build systems around my habits the past few months. After you read the book maybe your approach will be different than mine or better, or maybe there are some parts I completely missed or could improve upon so do let me know in the comments. The Good habits I wanted to develop were more consistent workout and reading routines. The Bad habit I wanted to eliminate was becoming distracted and overconsuming social media First I completed the Habit scorecard. This gave me a good idea of habits I could try to eliminate, but more importantly it gave me an idea of daily habits I was already doing that I could stack my new habits with. Ultimately, when you find the habits you want to work on. you want to be pushing Desired good habits towards this side of the spectrum, and bad habits towards this side. For the working out habit. The first step was to make the cues more obvious, and I had a few tools I could use from the book. In this case I used what James Clear calls the implementation strategy. I will workout at 6am in the living room. Next I tried as best I could to design my environment conducive to this new habit. I took my dumbbell set out of the closet, and put them in the living room. I also found a few pictures of healthy physiques on the internet and put them in places around the house as cues that would remind me of the habit. Next, I moved on to the craving phase. To increase dopamine and motivation I bundle the workout with listening to some of my favorite podcasts. I also implement reprogramming my brain. I tell myself repeatedly I don’t “have to do a workout” but that “ I get to build strength and a healthier body” That subtle shift in mindset has gone a long way. Ideally, joining a gym, or finding a group to workout with would be even better to strengthen this habit, but unfortunately all gyms are closed where I live, so I’m kind of on my own for now with these two tools. Next, making it easy. Using the 2 minute rule, to make sure I don’t end up like most people starting a new habit, that try to do too much too soon. I want my habit to not feel like a challenge at all. My 2 minute rule was putting on my workout clothes and stretching. If that was the only thing I accomplished then that was fine, because I showed up. But you will quickly find that once you are there, you are now motivated to get the workout done. It is weird but the motivation seems to come after you get started. My mindset is focused on small 1 percent changes compounding into meaningful results AND that my systems will get me to the results, not vague goals. Remembering that my main focus at this point is just making sure I show up and start anchoring this habit in place. Once you are consistently showing up, increase the progression. To decrease friction, I made the rule that I’m not allowed to check my phone until the workout was complete. If I get distracted by emails or social media, It is one excuse and one step of friction between myself and the workout getting completed. Lastly, this was a game changer for me, priming the environment. When I place my shoes, yoga mat and dumbbells out the night before I skyrocket my show up and workout percentage. As soon as I place these items out the night before, I feel like the ritual has begun and the workout is already complete because I have zero excuses. So with those 3 phases of the loop systemized to get me to show up. I only had the last phase of the loop left to tackle. To make sure I keep repeating the habit. I use both of these tools somewhat together to close out the loop. I use a habit tracker, crossing the day off the calendar becomes the reward and it forces me to not want to break the chain. I also take a of picture of the calories I burnt and send the picture to my partner, and that feels satisfying. Mindset wise, I begin with identity and I remind myself after each workout that “I want to become the kind of person that enjoys fitness and doesn’t miss workouts” I don’t put all my focus on outcomes such as I want to be 10kg lighter by such and such a date. I also remind myself that I need to be patient for results and that I’m probably still somewhere in this Valley of disappointment before I will see results! So that is my personal system for morning workouts. I went through the same process with the reading habit, with a few minor changes. I used the habit stack. After [making a coffee] I will [read for 90 minutes] … making a coffee was my trigger cue for reading. My one space one use rule was reading on the balcony of my apartment. One of the best parts of my day is a nice cup of coffee in the morning. So this was the perfect thing to bundle the habit with. Remembering how dopamine raises in anticipation of a reward and not the reward itself. I wanted this dopamine spike for wanting coffee to start becoming associated with reading. My 2 minute rule was to read 1 page of The Daily Stoic by Ryan Holiday. Super simple, again in the beginning all I was concerned with was showing up and getting this habit anchored. Then I slowly built up the habit to around 90 minutes. For the bad habit I was trying to eliminate To make the habit invisible, I started by making my phone as boring as possible, which required deleting a lot of apps. I use the reprogramming tool, to highlight the unattractive side of overconsuming social media. Telling myself things like… … consuming is the easy and lazy option of the masses ,producing things is difficult but rewarding. Do I want to be a consumer or a producer? Random scrolling through feeds is for losers. So try to paint your bad habit in a light that makes it super unattractive to keep doing. To increase friction, I left my phone out of sight whilst working in a drawer in another room. To make it unsatisfying, I have an accountability partner, I get my partner to enforce this habit. The punishment is If she sees me using social media during work time, I owe her $10. So that is how I have been using this fantastic book guys with great results so far, and I hope this summary has helped you to better understand the concepts within this book. Go out and grab a copy of this book if you haven't already, you are going to take in the knowledge at a much deeper level, from all the stories and examples that James Clear goes over some advanced techniques, not in this summary that will help you strengthen your habits. Thankyou for watching. See you in the next video.\n",
      "        This is the end of the transcript.\n",
      "        \n"
     ]
    }
   ],
   "source": [
    "prompt1 = f'''\n",
    "        Please summarize and add punctuation to the following video transcript. Remove uppercase where required.\n",
    "        Please limit summary to 200 words.\n",
    "        This is the start of the transcript.\n",
    "        {para}\n",
    "        This is the end of the transcript.\n",
    "        '''\n",
    "print(prompt1)"
   ]
  },
  {
   "cell_type": "code",
   "execution_count": 50,
   "id": "cebad42a-6cd9-40a5-aa99-9109be1190a7",
   "metadata": {
    "scrolled": true
   },
   "outputs": [
    {
     "name": "stdout",
     "output_type": "stream",
     "text": [
      "\n",
      "        Please summarize and add punctuation to the following video transcript. Keep summary limited to approximately 500 words. Write in bullet points.\n",
      "        This is the start of the transcript.\n",
      "        Do you ever feel like you're just floating through life...but not actually getting closer to the person that you want to be. It usually happens around New years, you imagine all the bad habits your going to break free from, and all the good habits you will begin. “This time it will be different” you say to yourself. This time I AM going to do the things that I say I will. Only to end up back where you began shortly after and no closer to what you had envisaged. So the question is, how do you become the person you dream of becoming? How do you break free from bad habits and make the habits you desire easier and automatic? Atomic Habits by James Clear answers all these questions. We are going to be doing a detailed visual summary of this book, And dive deep into topics like Habit loops Dopamine spikes Priming your environment Plus heaps more And make sure to stick around until the end of the video where we tie everything together from the video and I go step by step through how I've personally been using this book with my own habits and how you can start applying it to your own habits. I hope this summary inspires you to go out and grab a copy of the book for yourself because this book deserves a space on everyone’s bookshelf! Let’s jump into it Imagine a plane taking off and travelling from New York to Los Angeles. Just before takeoff you adjust the plane just slightly by 3 degrees or around 80 inches. If you kept flying in a straight line...You would end up closer to Tijuana in Mexico than in your intended destination of Los Angeles. The same goes for our habits. Tiny changes in our habits can change the trajectory of our lives in ways that we can’t even notice until many years into the future looking back. In both good ways and bad. You are your habits. The Power of Atomic Habits “A slight change in your daily habits can guide your life to a very different destination”. Massive action Vs 1% improvements Far too often, we convince ourselves that massive success is only possible through massive action in any goal we are pursuing. We expect ourselves to make some quantum leap or momentous improvement that will gain others attention. However it is the tiny improvements, that aren’t even noticeable at first, that create incredible change. Let’s look deeper into the Math 1% better every day for a year will compound to nearly 38 times better. 1% worse every day for over a year will bring you close to zero! Your habits can compound against you in the form of things like stress or negative self-talk. Or they can compound for you in the form of things like knowledge, productivity, skills and relationships. “Success is the product of daily habits—not once-in a lifetime transformations” The Truth About progress When you start any endeavour in your life, here is what we think should happen. Linear progress. Here is what actually happens. Notice this section here. In the beginning, small changes in our progress are not even noticeable. James Clear refers to this part of the graph as “the valley of disappointment” You’ve done so much! Put in so much effort and you can barely see any results! This is where most people fail and slip back into their old routines. The most powerful outcomes of any compounding process are delayed so Patience is required. Goals Vs Systems. “ FORGET ABOUT GOALS, FOCUS ON SYSTEMS INSTEAD” A goal is the result you want to accomplish. Systems deal with the processes that lead to results. The conventional wisdom suggests that the best way to achieve anything we want in life-getting into better shape, building a successful business, spending more time with family is to set specific, realistic goals. But if you completely ignored your goals and focused only on your system, would you still succeed? The Author argues that you would. Here are some problems with only having goals. Successful and unsuccessful people share the same goals, so therefore the goal can not be what differentiates winners from losers. Achieving a goal only changes your life for a moment in time. Goals can create an either-or conflict. Either you achieve the goal and succeed, or you don’t and you are a failure. Even if you were making progress in the right direction When you achieve a goal, what do you do after? If your goal was running the local marathon, chances are after completing it, your motivation will quickly fade and you will just slip back into your old routines. “Goals are good for setting a direction, but systems are best for making progress” A SYSTEM OF ATOMIC HABITS The problem with changing your habits is not you. The reason why you repeat the same bad habit for so long isn't because you don't want to change, but because you have the wrong system for change. Atomic habits are small routines and behaviors that accumulate to produce incremental positive outcomes over time. Big breakthroughs tend to get more attention than small improvements. But what really matters are the little daily decisions and actions we take. “Just as atoms are the building blocks of molecules, atomic habits are the building blocks of remarkable results”. There are 3 layers to behavior change. The first layer is changing outcomes.The result. Losing that weight, writing that book, winning the season. The outcomes are what you get The Second layer is changing your process. What you do. The new workout routine, developing a daily reading habit. And the third layer is changing your identity. What you believe. Your worldviews and how you think about yourself and others. Most people focus on the outcomes but the best way to change your habits is by focusing on the person you want to become instead of the results you want. The goal isn’t to learn an instrument, it is to become a musician. The goal isn’t to run a marathon, It is to become a runner. When something you want in your life becomes part of your identity, that is when your behaviors will naturally change. When you tell yourself and others “I’m a runner”. You want to live up to that identity. Remind yourself Every Time you do a workout, you are an athlete. Every time you write a line of code, you are a coder. Each time you instruct your team, you are a leader. The Habit Loop A habit is when something has been repeated enough times that it becomes automatic. Ultimately we want our habits to solve problems in our lives with the least amount of effort. A habit is formed and reinforced by means of a continuous feedback loop: Cue + Craving + Response + Reward. The key to creating habits that stick is to create feedback loops that are continuously being improved. Cue. Phone buzz. Craving. Want to know who messaged. Response. Pick up phone. Reward. Solve the problem of who messaged. Cue. Mind goes blank at work. Craving. Want to alleviate the frustration. Response. Check social media. Reward. Satisfied the need to feel less frustrated Over time, rewards become associated with cues. So, in this example, checking social media becomes tied to your mind going blank at work. And then checking Facebook may be the cue to check Instagram, which becomes the cue to check YouTube. And before you know it, your mind going blank cue has led to 20 minutes of wasted time. And you more you repeat these habit loops, the stronger and more automatic they become. Cues can really be anything. A smell, a sound a sight, a person, a location etc. Try to think of any cues in your daily life that are initiating your good or bad habit loops. So how can we influence the habit loop to work for us? This book shows us the 4 laws that will guide us to do just that. Law 1 Make it obvious Most of your current habits are so automatic that you don’t even realize them. You must first become aware of your habits before you can change them. You can achieve that with your Habit Scorecard. Write down all your daily behaviors on a habits scorecard, from the moment you wake up until the moment you go to bed. Your scorecard may look something like this. Based on whether it helps you become the person you aspire to be, categorize each habit as positive (+), negative (-), or neutral (=). At this stage we aren’t trying to change anything, just observe what is actually going on in our daily lives. “Until you make the unconscious conscious, it will direct your life and you will call it fate.” Carl Yung Vagueness is a real problem when it comes to habit formation, and studies have shown that quite often the reason people fail to stick to a habit is not because of a lack of motivation, but because of a lack of clarity. “One day, I will get into shape” is easy to say to yourself but too vague to get any momentum. What you need is a time and a place. The most common cues—time and location—will help you achieve your goals. Clearly state your intention to act using the following formula: I will behavior at time in this location. Here is a bad example, “I will read more this month” Here is a good example “I will read a book for 15 minutes daily at 6am in the spare bedroom”. Another good way to get a habit started is by Habit stacking. To stack habits, tie a desired habit to an existing habit according to the following formula: “After [current habit], I will [new habit]”. For example, “After I brush my teeth, I will stretch for 5 minutes”. You can stack habits together, for example after you finish brushing your teeth, you will meditate for 10 minutes, then plan the rest of your day, before checking social media. A “chain of habits” is more likely to be sustained if you practice this consistently. Choosing the correct trigger is essential. YOU NEED A TRIGGER CUE Your trigger should be; something that you do automatically without fail during your day, such as waking up, turning off your alarm or brushing your teeth. James Clear tells us in the book that Motivation is highly overrated. You can better shape your behavior by designing your environment. We are more influenced by our environment than our willpower or motivation. It’s hard to stick to positive habits in a negative environment. “Environment is the invisible hand that shapes human behavior.” Creating a habit requires you to redesign the space around you (home/work) to 1 - make it easier to see the cues for the desired habits and 2 - avert bad habits by making them invisible. If you want to drink more water, make the cues visible and obvious. Place water bottles around the house in places you are likely to see them. Want to read more? place the book somewhere you will see it. If you want to get better on the guitar, don’t leave it out of sight in a closet. CONTEXT IS THE CUE Objects in the environment do not determine our behavior; rather, it is our relationship to them that does. Stop seeing your environment as a place simply filled with objects. Imagine it as a place filled with relationships. The couch in the living room is the place where one person reads an hour a night. For another, the couch is where they watch Netflix and eat pizza and relax after work. If your relationship with the couch is a place to relax, then trying to get a work related task done in that environment may be difficult. Try to make separate zones in your house for different activities. The author likes to use the mantra “One space, One use” If you are trying to eliminate a bad habit, You can only rely on self-control in the short-term. Cutting off bad habits at the source is a more reliable solution and one of the most practical ways to eliminate a bad habit is to make it invisible. Eliminate it from your environment. For example Put your phone in another room for a few hours if you have trouble getting work done. Put junk food out of sight or remove it from your house if you are trying to lose weight. Law 2 Making it Attractive When we expect to be rewarded, we take action. The more rewarding an action is, the more likely we are to repeat it until it becomes a habit. Hence, the first step to forming good habits is to make them more attractive. Understanding how dopamine affects your body will help you DOPAMINE & FEEDBACK LOOPS Our motivation levels are affected by dopamine, a hormone and neurotransmitter. We are more motivated to act when our dopamine levels rise. By measuring dopamine, scientists can pinpoint the exact moment at which a craving occurs. It was once assumed that dopamine was just about pleasure, but now we know it's vital to many neurological functions, including motivation, memory, learning, punishment as well as voluntary movement. “Gambling addicts have a dopamine spike right before they place a bet, not after they win”. Let’s dive deeper into dopamine spikes. Using social media, eating junk food and taking drugs are all associated with high levels of dopamine and are highly habit forming. The hormone dopamine is released not only when we experience pleasure, but also when we anticipate it. Think about before going on a vacation. Sometimes the thinking and anticipation of the vacation is better than the actual vacation. Seeing the junk food you desire surges dopamine, not after eating it. Drug addicts increase dopamine when they see the drugs, not after taking them. The craving is what causes us to take action in the first place. Making our habits attractive is vital because it is the expectation of a rewarding experience that drives us to act. Here, you can use a strategy known as…. Temptation bundling The temptation bundling process makes a habit more attractive by combining an action we need to do with one we want to do. For example you could bundle watching Netflix (something you want to do) with working out (something you need to do). Temptation bundling applies a psychology principle known as Premack's Principle. Developed by professor David Premack, the Premack principle states, \"More probable behaviors will reinforce less probable behaviors.\" In other words, even if you're not looking forward to doing some exercise, you'll become conditioned to do it because you get to do something else you really enjoy. Group Influence “We are continually wondering \"What will others think of me?\" and altering our behavior based on the answer.” We are influenced by the people closest to us, and the groups we belong to. If you are trying to build a new habit, one of the best ways to reinforce the habit is to find and become part of a culture where that habit is the norm. If you want to get into better shape, surround yourself with fit people. If you want to read more, join a book club. Primal motivators : The source of cravings In your normal everyday life you wouldn’t say something to yourself like “I want to eat this pizza because I need to consume this food to survive” Surface level cravings are merely manifestations of our deeper underlying motives. And these underlying motives guide our behavior. Here are some examples of underlying motives: Conserving energy Obtaining food and water Finding love and reproducing Connecting and bonding with others Winning social acceptance and approval Reducing uncertainty Achieving status and prestige Your brain did not evolve with a desire to smoke cigarettes, check Instagram every 5 minutes or to play video games. Online platforms and products do not invent new motivations, but rather appeal to the underlying motives of human nature that we already have to gain our attention. “Your habits are modern-day solutions to ancient desires. New versions of old vices. The underlying motives behind human nature remain the same” People who have the underlying motive of connecting with others may jump onto Facebook, others seeking the underlying motive of finding love and reproducing may sign up for Tinder. Reducing uncertainty, there’s Google for that. Seeking social acceptance, there is Instagram. Reprogramming your brain to enjoy hard habits “You can make hard habits more attractive if you can learn to associate them with a positive experience.” By highlighting the benefits of a habit rather than its downsides, you can quickly reprogram your mind and make it seem more appealing. For example, Fitness = health and wellbeing and not fatigue. Cleaning the house = an environment conducive to peace of mind and not wasted time. Saving money = future financial freedom and not sacrifice. These subtle shifts in mindset aren't magic, but they can change your feelings toward some habits or situations. Make it Unattractive. To break a bad habit, do the same but highlight the benefits of NOT doing that habit to make it as unattractive to keep doing as possible. Law 3 - Make it Easy How long does it actually take to form a new habit? During habit formation, a behavior becomes increasingly automatic as it is repeated. As you repeat an activity, your brain changes in order to become more efficient at it. Long before neuroscientists dug into the process of forming habits, repetition was known as a powerful tool for establishing habits. You activate particular neural circuits associated with habits every time you repeat them. So framing habit formation in terms of time is flawed. It should be framed in terms of the number of repetitions. Reducing Friction : The Law of Least Effort The more energy required, the less likely it is to happen. It takes almost no energy to get into the habit of reading one page of a book each day. Habits are more likely to occur when they require less energy. The bigger the obstacle, the more friction there is between you and the desired outcome. If you need to travel 20 minutes out of your way to go to the gym, chances are you will not. If your gym is located on your commute to work, you will greatly decrease the friction. By making your good habits more convenient, you're more likely to stick to them. Your life will be easier if you find ways to reduce friction rather than trying to solve it. In order to build better habits, we have to find ways to reduce friction associated with our good habits and increase friction associated with our bad habits Prime the environment for use By automating or setting up your environment, you can reduce the friction for future action, e.g. “I will lay out my workout clothes at night so I can get up and get moving in the morning.” Or to prepare a healthier breakfast, place the pan on the stove, and gather the ingredients the night before. Again to reduce any friction. Using the Two-Minute Rule to Stop Procrastinating Using the \"2-minute rule\" can help you establish small habits that will lead to habit momentum and success in bigger goals. Find a simple, 2-minute version of your desired habit. You want to scale down your desired outcome. Running a marathon becomes putting on your shoes and stretching for 2 minutes. Reading an hour per day becomes reading one page. You need to get the routine anchored in place and then slowly build up the difficulty. After you have mastered the 2-minute habit, you can progress to the next phase; To make something more difficult, think about ways you can create barriers of friction between yourself and the bad habit. Make it as impractical as possible. If you want to watch less TV, unplug the TV after each use and put the remote in an inconvenient location. When you go shopping, leave your credit cards under the seat of your car if you have a bad habit of spontaneous spending. Do anything you can to make your Bad habits less likely to occur. Law 4 -Make it satisfying The most important rule of behavior change A feeling of pleasure is a message to the brain: \"This feels good. Let’s repeat this next time.\" When you experience pleasure, your brain learns that a behavior is worth remembering and repeating. \"What is immediately rewarded is repeated. What is immediately punished is avoided\". The first Three habits increase your chances of doing the habit this time. The last law increases your chances of repeating the habit next time. The Mismatch between immediate and delayed returns It is common for us to feel good about our immediate results, but bad about our long-term outcomes when we practice bad habits. It is the opposite with good habits: the immediate result is unpleasant, but the ultimate outcome is satisfying. A certain amount of success in just about every field involves ignoring an immediate reward for a long-term one. It is best to add a little immediate pleasure to the habits that will pay off in the long run and a little pain to those that won't. How to stick with good habits everyday QUOTE “The vital thing in getting a habit to stick is to feel successful—even if it’s in a small way. The feeling of success is a signal that your habit paid off and that the work was worth the effort.” It is satisfying to make progress, and you can monitor your progress using visual measures, such as moving paper clips, hairpins, or marbles. These “little wins” can go a long way. For example, for each sales call you make today, move a marble from one jar to the complete jar. For Each 25 minutes of writing, move a paperclip Visual measurements can take many forms: diet journals, workout logs, download progress bars, or even page numbers in a book. Keeping a habit tracker may be the best method to monitor your progress. Using a habit tracker is a simple way to determine whether you did a particular habit. How to recover quickly when your habits break down In spite of your best efforts, it is inevitable that life will interrupt you at some point. A bad day at work, a bad performance, or a bad workout can happen to anyone. When you're having a bad day, you don't realize how valuable it is to just show up. “Lost days hurt you more than successful days help you.” Don’t break the chain of continuity. Missing twice is the start of a bad habit; never do it. On a bad day, it's better to do 10 sit ups (instead of your normal 50) than not do them at all. Breaking a bad habit: Make it Unsatisfying How an accountability partner can change everything. A behavior is less likely to occur when pain is immediate. Being held accountable by a partner is a good way to keep your desired habits in check. We all want to be liked and respected, so we would rather just avoid the punishment. For example - I owe you $10 every time I miss a workout, plus the respect I lose for failing to do what I said I would! Behavior is more likely to be influenced by concrete, and immediate consequences. The Habit Contract You can create a habit contract to hold yourself accountable, just as governments use laws to hold citizens accountable. You can create a habit contract either verbally or in writing, which makes it clear that you will honor a particular habit and that there will be punishments if you do not. You can then use your accountability partners to enforce that contract. Ok so it’s one thing to read a book, but another to actually apply it to your life. So i’m going to try and visually represent how I have personally been using this book to build systems around my habits the past few months. After you read the book maybe your approach will be different than mine or better, or maybe there are some parts I completely missed or could improve upon so do let me know in the comments. The Good habits I wanted to develop were more consistent workout and reading routines. The Bad habit I wanted to eliminate was becoming distracted and overconsuming social media First I completed the Habit scorecard. This gave me a good idea of habits I could try to eliminate, but more importantly it gave me an idea of daily habits I was already doing that I could stack my new habits with. Ultimately, when you find the habits you want to work on. you want to be pushing Desired good habits towards this side of the spectrum, and bad habits towards this side. For the working out habit. The first step was to make the cues more obvious, and I had a few tools I could use from the book. In this case I used what James Clear calls the implementation strategy. I will workout at 6am in the living room. Next I tried as best I could to design my environment conducive to this new habit. I took my dumbbell set out of the closet, and put them in the living room. I also found a few pictures of healthy physiques on the internet and put them in places around the house as cues that would remind me of the habit. Next, I moved on to the craving phase. To increase dopamine and motivation I bundle the workout with listening to some of my favorite podcasts. I also implement reprogramming my brain. I tell myself repeatedly I don’t “have to do a workout” but that “ I get to build strength and a healthier body” That subtle shift in mindset has gone a long way. Ideally, joining a gym, or finding a group to workout with would be even better to strengthen this habit, but unfortunately all gyms are closed where I live, so I’m kind of on my own for now with these two tools. Next, making it easy. Using the 2 minute rule, to make sure I don’t end up like most people starting a new habit, that try to do too much too soon. I want my habit to not feel like a challenge at all. My 2 minute rule was putting on my workout clothes and stretching. If that was the only thing I accomplished then that was fine, because I showed up. But you will quickly find that once you are there, you are now motivated to get the workout done. It is weird but the motivation seems to come after you get started. My mindset is focused on small 1 percent changes compounding into meaningful results AND that my systems will get me to the results, not vague goals. Remembering that my main focus at this point is just making sure I show up and start anchoring this habit in place. Once you are consistently showing up, increase the progression. To decrease friction, I made the rule that I’m not allowed to check my phone until the workout was complete. If I get distracted by emails or social media, It is one excuse and one step of friction between myself and the workout getting completed. Lastly, this was a game changer for me, priming the environment. When I place my shoes, yoga mat and dumbbells out the night before I skyrocket my show up and workout percentage. As soon as I place these items out the night before, I feel like the ritual has begun and the workout is already complete because I have zero excuses. So with those 3 phases of the loop systemized to get me to show up. I only had the last phase of the loop left to tackle. To make sure I keep repeating the habit. I use both of these tools somewhat together to close out the loop. I use a habit tracker, crossing the day off the calendar becomes the reward and it forces me to not want to break the chain. I also take a of picture of the calories I burnt and send the picture to my partner, and that feels satisfying. Mindset wise, I begin with identity and I remind myself after each workout that “I want to become the kind of person that enjoys fitness and doesn’t miss workouts” I don’t put all my focus on outcomes such as I want to be 10kg lighter by such and such a date. I also remind myself that I need to be patient for results and that I’m probably still somewhere in this Valley of disappointment before I will see results! So that is my personal system for morning workouts. I went through the same process with the reading habit, with a few minor changes. I used the habit stack. After [making a coffee] I will [read for 90 minutes] … making a coffee was my trigger cue for reading. My one space one use rule was reading on the balcony of my apartment. One of the best parts of my day is a nice cup of coffee in the morning. So this was the perfect thing to bundle the habit with. Remembering how dopamine raises in anticipation of a reward and not the reward itself. I wanted this dopamine spike for wanting coffee to start becoming associated with reading. My 2 minute rule was to read 1 page of The Daily Stoic by Ryan Holiday. Super simple, again in the beginning all I was concerned with was showing up and getting this habit anchored. Then I slowly built up the habit to around 90 minutes. For the bad habit I was trying to eliminate To make the habit invisible, I started by making my phone as boring as possible, which required deleting a lot of apps. I use the reprogramming tool, to highlight the unattractive side of overconsuming social media. Telling myself things like… … consuming is the easy and lazy option of the masses ,producing things is difficult but rewarding. Do I want to be a consumer or a producer? Random scrolling through feeds is for losers. So try to paint your bad habit in a light that makes it super unattractive to keep doing. To increase friction, I left my phone out of sight whilst working in a drawer in another room. To make it unsatisfying, I have an accountability partner, I get my partner to enforce this habit. The punishment is If she sees me using social media during work time, I owe her $10. So that is how I have been using this fantastic book guys with great results so far, and I hope this summary has helped you to better understand the concepts within this book. Go out and grab a copy of this book if you haven't already, you are going to take in the knowledge at a much deeper level, from all the stories and examples that James Clear goes over some advanced techniques, not in this summary that will help you strengthen your habits. Thankyou for watching. See you in the next video.\n",
      "        This is the end of the transcript.\n",
      "        \n"
     ]
    }
   ],
   "source": [
    "prompt2 = f'''\n",
    "        Please summarize and add punctuation to the following video transcript. Keep summary limited to approximately 500 words. Write in bullet points.\n",
    "        This is the start of the transcript.\n",
    "        {para}\n",
    "        This is the end of the transcript.\n",
    "        '''\n",
    "print(prompt2)"
   ]
  },
  {
   "cell_type": "code",
   "execution_count": 54,
   "id": "0a5aaf9c-7416-461b-b6a6-124cc53b39c4",
   "metadata": {
    "scrolled": true
   },
   "outputs": [
    {
     "name": "stdout",
     "output_type": "stream",
     "text": [
      "\n",
      "        Please give detailed summary and add punctuation to the following video transcript.\n",
      "        This is the start of the transcript.\n",
      "        Do you ever feel like you're just floating through life...but not actually getting closer to the person that you want to be. It usually happens around New years, you imagine all the bad habits your going to break free from, and all the good habits you will begin. “This time it will be different” you say to yourself. This time I AM going to do the things that I say I will. Only to end up back where you began shortly after and no closer to what you had envisaged. So the question is, how do you become the person you dream of becoming? How do you break free from bad habits and make the habits you desire easier and automatic? Atomic Habits by James Clear answers all these questions. We are going to be doing a detailed visual summary of this book, And dive deep into topics like Habit loops Dopamine spikes Priming your environment Plus heaps more And make sure to stick around until the end of the video where we tie everything together from the video and I go step by step through how I've personally been using this book with my own habits and how you can start applying it to your own habits. I hope this summary inspires you to go out and grab a copy of the book for yourself because this book deserves a space on everyone’s bookshelf! Let’s jump into it Imagine a plane taking off and travelling from New York to Los Angeles. Just before takeoff you adjust the plane just slightly by 3 degrees or around 80 inches. If you kept flying in a straight line...You would end up closer to Tijuana in Mexico than in your intended destination of Los Angeles. The same goes for our habits. Tiny changes in our habits can change the trajectory of our lives in ways that we can’t even notice until many years into the future looking back. In both good ways and bad. You are your habits. The Power of Atomic Habits “A slight change in your daily habits can guide your life to a very different destination”. Massive action Vs 1% improvements Far too often, we convince ourselves that massive success is only possible through massive action in any goal we are pursuing. We expect ourselves to make some quantum leap or momentous improvement that will gain others attention. However it is the tiny improvements, that aren’t even noticeable at first, that create incredible change. Let’s look deeper into the Math 1% better every day for a year will compound to nearly 38 times better. 1% worse every day for over a year will bring you close to zero! Your habits can compound against you in the form of things like stress or negative self-talk. Or they can compound for you in the form of things like knowledge, productivity, skills and relationships. “Success is the product of daily habits—not once-in a lifetime transformations” The Truth About progress When you start any endeavour in your life, here is what we think should happen. Linear progress. Here is what actually happens. Notice this section here. In the beginning, small changes in our progress are not even noticeable. James Clear refers to this part of the graph as “the valley of disappointment” You’ve done so much! Put in so much effort and you can barely see any results! This is where most people fail and slip back into their old routines. The most powerful outcomes of any compounding process are delayed so Patience is required. Goals Vs Systems. “ FORGET ABOUT GOALS, FOCUS ON SYSTEMS INSTEAD” A goal is the result you want to accomplish. Systems deal with the processes that lead to results. The conventional wisdom suggests that the best way to achieve anything we want in life-getting into better shape, building a successful business, spending more time with family is to set specific, realistic goals. But if you completely ignored your goals and focused only on your system, would you still succeed? The Author argues that you would. Here are some problems with only having goals. Successful and unsuccessful people share the same goals, so therefore the goal can not be what differentiates winners from losers. Achieving a goal only changes your life for a moment in time. Goals can create an either-or conflict. Either you achieve the goal and succeed, or you don’t and you are a failure. Even if you were making progress in the right direction When you achieve a goal, what do you do after? If your goal was running the local marathon, chances are after completing it, your motivation will quickly fade and you will just slip back into your old routines. “Goals are good for setting a direction, but systems are best for making progress” A SYSTEM OF ATOMIC HABITS The problem with changing your habits is not you. The reason why you repeat the same bad habit for so long isn't because you don't want to change, but because you have the wrong system for change. Atomic habits are small routines and behaviors that accumulate to produce incremental positive outcomes over time. Big breakthroughs tend to get more attention than small improvements. But what really matters are the little daily decisions and actions we take. “Just as atoms are the building blocks of molecules, atomic habits are the building blocks of remarkable results”. There are 3 layers to behavior change. The first layer is changing outcomes.The result. Losing that weight, writing that book, winning the season. The outcomes are what you get The Second layer is changing your process. What you do. The new workout routine, developing a daily reading habit. And the third layer is changing your identity. What you believe. Your worldviews and how you think about yourself and others. Most people focus on the outcomes but the best way to change your habits is by focusing on the person you want to become instead of the results you want. The goal isn’t to learn an instrument, it is to become a musician. The goal isn’t to run a marathon, It is to become a runner. When something you want in your life becomes part of your identity, that is when your behaviors will naturally change. When you tell yourself and others “I’m a runner”. You want to live up to that identity. Remind yourself Every Time you do a workout, you are an athlete. Every time you write a line of code, you are a coder. Each time you instruct your team, you are a leader. The Habit Loop A habit is when something has been repeated enough times that it becomes automatic. Ultimately we want our habits to solve problems in our lives with the least amount of effort. A habit is formed and reinforced by means of a continuous feedback loop: Cue + Craving + Response + Reward. The key to creating habits that stick is to create feedback loops that are continuously being improved. Cue. Phone buzz. Craving. Want to know who messaged. Response. Pick up phone. Reward. Solve the problem of who messaged. Cue. Mind goes blank at work. Craving. Want to alleviate the frustration. Response. Check social media. Reward. Satisfied the need to feel less frustrated Over time, rewards become associated with cues. So, in this example, checking social media becomes tied to your mind going blank at work. And then checking Facebook may be the cue to check Instagram, which becomes the cue to check YouTube. And before you know it, your mind going blank cue has led to 20 minutes of wasted time. And you more you repeat these habit loops, the stronger and more automatic they become. Cues can really be anything. A smell, a sound a sight, a person, a location etc. Try to think of any cues in your daily life that are initiating your good or bad habit loops. So how can we influence the habit loop to work for us? This book shows us the 4 laws that will guide us to do just that. Law 1 Make it obvious Most of your current habits are so automatic that you don’t even realize them. You must first become aware of your habits before you can change them. You can achieve that with your Habit Scorecard. Write down all your daily behaviors on a habits scorecard, from the moment you wake up until the moment you go to bed. Your scorecard may look something like this. Based on whether it helps you become the person you aspire to be, categorize each habit as positive (+), negative (-), or neutral (=). At this stage we aren’t trying to change anything, just observe what is actually going on in our daily lives. “Until you make the unconscious conscious, it will direct your life and you will call it fate.” Carl Yung Vagueness is a real problem when it comes to habit formation, and studies have shown that quite often the reason people fail to stick to a habit is not because of a lack of motivation, but because of a lack of clarity. “One day, I will get into shape” is easy to say to yourself but too vague to get any momentum. What you need is a time and a place. The most common cues—time and location—will help you achieve your goals. Clearly state your intention to act using the following formula: I will behavior at time in this location. Here is a bad example, “I will read more this month” Here is a good example “I will read a book for 15 minutes daily at 6am in the spare bedroom”. Another good way to get a habit started is by Habit stacking. To stack habits, tie a desired habit to an existing habit according to the following formula: “After [current habit], I will [new habit]”. For example, “After I brush my teeth, I will stretch for 5 minutes”. You can stack habits together, for example after you finish brushing your teeth, you will meditate for 10 minutes, then plan the rest of your day, before checking social media. A “chain of habits” is more likely to be sustained if you practice this consistently. Choosing the correct trigger is essential. YOU NEED A TRIGGER CUE Your trigger should be; something that you do automatically without fail during your day, such as waking up, turning off your alarm or brushing your teeth. James Clear tells us in the book that Motivation is highly overrated. You can better shape your behavior by designing your environment. We are more influenced by our environment than our willpower or motivation. It’s hard to stick to positive habits in a negative environment. “Environment is the invisible hand that shapes human behavior.” Creating a habit requires you to redesign the space around you (home/work) to 1 - make it easier to see the cues for the desired habits and 2 - avert bad habits by making them invisible. If you want to drink more water, make the cues visible and obvious. Place water bottles around the house in places you are likely to see them. Want to read more? place the book somewhere you will see it. If you want to get better on the guitar, don’t leave it out of sight in a closet. CONTEXT IS THE CUE Objects in the environment do not determine our behavior; rather, it is our relationship to them that does. Stop seeing your environment as a place simply filled with objects. Imagine it as a place filled with relationships. The couch in the living room is the place where one person reads an hour a night. For another, the couch is where they watch Netflix and eat pizza and relax after work. If your relationship with the couch is a place to relax, then trying to get a work related task done in that environment may be difficult. Try to make separate zones in your house for different activities. The author likes to use the mantra “One space, One use” If you are trying to eliminate a bad habit, You can only rely on self-control in the short-term. Cutting off bad habits at the source is a more reliable solution and one of the most practical ways to eliminate a bad habit is to make it invisible. Eliminate it from your environment. For example Put your phone in another room for a few hours if you have trouble getting work done. Put junk food out of sight or remove it from your house if you are trying to lose weight. Law 2 Making it Attractive When we expect to be rewarded, we take action. The more rewarding an action is, the more likely we are to repeat it until it becomes a habit. Hence, the first step to forming good habits is to make them more attractive. Understanding how dopamine affects your body will help you DOPAMINE & FEEDBACK LOOPS Our motivation levels are affected by dopamine, a hormone and neurotransmitter. We are more motivated to act when our dopamine levels rise. By measuring dopamine, scientists can pinpoint the exact moment at which a craving occurs. It was once assumed that dopamine was just about pleasure, but now we know it's vital to many neurological functions, including motivation, memory, learning, punishment as well as voluntary movement. “Gambling addicts have a dopamine spike right before they place a bet, not after they win”. Let’s dive deeper into dopamine spikes. Using social media, eating junk food and taking drugs are all associated with high levels of dopamine and are highly habit forming. The hormone dopamine is released not only when we experience pleasure, but also when we anticipate it. Think about before going on a vacation. Sometimes the thinking and anticipation of the vacation is better than the actual vacation. Seeing the junk food you desire surges dopamine, not after eating it. Drug addicts increase dopamine when they see the drugs, not after taking them. The craving is what causes us to take action in the first place. Making our habits attractive is vital because it is the expectation of a rewarding experience that drives us to act. Here, you can use a strategy known as…. Temptation bundling The temptation bundling process makes a habit more attractive by combining an action we need to do with one we want to do. For example you could bundle watching Netflix (something you want to do) with working out (something you need to do). Temptation bundling applies a psychology principle known as Premack's Principle. Developed by professor David Premack, the Premack principle states, \"More probable behaviors will reinforce less probable behaviors.\" In other words, even if you're not looking forward to doing some exercise, you'll become conditioned to do it because you get to do something else you really enjoy. Group Influence “We are continually wondering \"What will others think of me?\" and altering our behavior based on the answer.” We are influenced by the people closest to us, and the groups we belong to. If you are trying to build a new habit, one of the best ways to reinforce the habit is to find and become part of a culture where that habit is the norm. If you want to get into better shape, surround yourself with fit people. If you want to read more, join a book club. Primal motivators : The source of cravings In your normal everyday life you wouldn’t say something to yourself like “I want to eat this pizza because I need to consume this food to survive” Surface level cravings are merely manifestations of our deeper underlying motives. And these underlying motives guide our behavior. Here are some examples of underlying motives: Conserving energy Obtaining food and water Finding love and reproducing Connecting and bonding with others Winning social acceptance and approval Reducing uncertainty Achieving status and prestige Your brain did not evolve with a desire to smoke cigarettes, check Instagram every 5 minutes or to play video games. Online platforms and products do not invent new motivations, but rather appeal to the underlying motives of human nature that we already have to gain our attention. “Your habits are modern-day solutions to ancient desires. New versions of old vices. The underlying motives behind human nature remain the same” People who have the underlying motive of connecting with others may jump onto Facebook, others seeking the underlying motive of finding love and reproducing may sign up for Tinder. Reducing uncertainty, there’s Google for that. Seeking social acceptance, there is Instagram. Reprogramming your brain to enjoy hard habits “You can make hard habits more attractive if you can learn to associate them with a positive experience.” By highlighting the benefits of a habit rather than its downsides, you can quickly reprogram your mind and make it seem more appealing. For example, Fitness = health and wellbeing and not fatigue. Cleaning the house = an environment conducive to peace of mind and not wasted time. Saving money = future financial freedom and not sacrifice. These subtle shifts in mindset aren't magic, but they can change your feelings toward some habits or situations. Make it Unattractive. To break a bad habit, do the same but highlight the benefits of NOT doing that habit to make it as unattractive to keep doing as possible. Law 3 - Make it Easy How long does it actually take to form a new habit? During habit formation, a behavior becomes increasingly automatic as it is repeated. As you repeat an activity, your brain changes in order to become more efficient at it. Long before neuroscientists dug into the process of forming habits, repetition was known as a powerful tool for establishing habits. You activate particular neural circuits associated with habits every time you repeat them. So framing habit formation in terms of time is flawed. It should be framed in terms of the number of repetitions. Reducing Friction : The Law of Least Effort The more energy required, the less likely it is to happen. It takes almost no energy to get into the habit of reading one page of a book each day. Habits are more likely to occur when they require less energy. The bigger the obstacle, the more friction there is between you and the desired outcome. If you need to travel 20 minutes out of your way to go to the gym, chances are you will not. If your gym is located on your commute to work, you will greatly decrease the friction. By making your good habits more convenient, you're more likely to stick to them. Your life will be easier if you find ways to reduce friction rather than trying to solve it. In order to build better habits, we have to find ways to reduce friction associated with our good habits and increase friction associated with our bad habits Prime the environment for use By automating or setting up your environment, you can reduce the friction for future action, e.g. “I will lay out my workout clothes at night so I can get up and get moving in the morning.” Or to prepare a healthier breakfast, place the pan on the stove, and gather the ingredients the night before. Again to reduce any friction. Using the Two-Minute Rule to Stop Procrastinating Using the \"2-minute rule\" can help you establish small habits that will lead to habit momentum and success in bigger goals. Find a simple, 2-minute version of your desired habit. You want to scale down your desired outcome. Running a marathon becomes putting on your shoes and stretching for 2 minutes. Reading an hour per day becomes reading one page. You need to get the routine anchored in place and then slowly build up the difficulty. After you have mastered the 2-minute habit, you can progress to the next phase; To make something more difficult, think about ways you can create barriers of friction between yourself and the bad habit. Make it as impractical as possible. If you want to watch less TV, unplug the TV after each use and put the remote in an inconvenient location. When you go shopping, leave your credit cards under the seat of your car if you have a bad habit of spontaneous spending. Do anything you can to make your Bad habits less likely to occur. Law 4 -Make it satisfying The most important rule of behavior change A feeling of pleasure is a message to the brain: \"This feels good. Let’s repeat this next time.\" When you experience pleasure, your brain learns that a behavior is worth remembering and repeating. \"What is immediately rewarded is repeated. What is immediately punished is avoided\". The first Three habits increase your chances of doing the habit this time. The last law increases your chances of repeating the habit next time. The Mismatch between immediate and delayed returns It is common for us to feel good about our immediate results, but bad about our long-term outcomes when we practice bad habits. It is the opposite with good habits: the immediate result is unpleasant, but the ultimate outcome is satisfying. A certain amount of success in just about every field involves ignoring an immediate reward for a long-term one. It is best to add a little immediate pleasure to the habits that will pay off in the long run and a little pain to those that won't. How to stick with good habits everyday QUOTE “The vital thing in getting a habit to stick is to feel successful—even if it’s in a small way. The feeling of success is a signal that your habit paid off and that the work was worth the effort.” It is satisfying to make progress, and you can monitor your progress using visual measures, such as moving paper clips, hairpins, or marbles. These “little wins” can go a long way. For example, for each sales call you make today, move a marble from one jar to the complete jar. For Each 25 minutes of writing, move a paperclip Visual measurements can take many forms: diet journals, workout logs, download progress bars, or even page numbers in a book. Keeping a habit tracker may be the best method to monitor your progress. Using a habit tracker is a simple way to determine whether you did a particular habit. How to recover quickly when your habits break down In spite of your best efforts, it is inevitable that life will interrupt you at some point. A bad day at work, a bad performance, or a bad workout can happen to anyone. When you're having a bad day, you don't realize how valuable it is to just show up. “Lost days hurt you more than successful days help you.” Don’t break the chain of continuity. Missing twice is the start of a bad habit; never do it. On a bad day, it's better to do 10 sit ups (instead of your normal 50) than not do them at all. Breaking a bad habit: Make it Unsatisfying How an accountability partner can change everything. A behavior is less likely to occur when pain is immediate. Being held accountable by a partner is a good way to keep your desired habits in check. We all want to be liked and respected, so we would rather just avoid the punishment. For example - I owe you $10 every time I miss a workout, plus the respect I lose for failing to do what I said I would! Behavior is more likely to be influenced by concrete, and immediate consequences. The Habit Contract You can create a habit contract to hold yourself accountable, just as governments use laws to hold citizens accountable. You can create a habit contract either verbally or in writing, which makes it clear that you will honor a particular habit and that there will be punishments if you do not. You can then use your accountability partners to enforce that contract. Ok so it’s one thing to read a book, but another to actually apply it to your life. So i’m going to try and visually represent how I have personally been using this book to build systems around my habits the past few months. After you read the book maybe your approach will be different than mine or better, or maybe there are some parts I completely missed or could improve upon so do let me know in the comments. The Good habits I wanted to develop were more consistent workout and reading routines. The Bad habit I wanted to eliminate was becoming distracted and overconsuming social media First I completed the Habit scorecard. This gave me a good idea of habits I could try to eliminate, but more importantly it gave me an idea of daily habits I was already doing that I could stack my new habits with. Ultimately, when you find the habits you want to work on. you want to be pushing Desired good habits towards this side of the spectrum, and bad habits towards this side. For the working out habit. The first step was to make the cues more obvious, and I had a few tools I could use from the book. In this case I used what James Clear calls the implementation strategy. I will workout at 6am in the living room. Next I tried as best I could to design my environment conducive to this new habit. I took my dumbbell set out of the closet, and put them in the living room. I also found a few pictures of healthy physiques on the internet and put them in places around the house as cues that would remind me of the habit. Next, I moved on to the craving phase. To increase dopamine and motivation I bundle the workout with listening to some of my favorite podcasts. I also implement reprogramming my brain. I tell myself repeatedly I don’t “have to do a workout” but that “ I get to build strength and a healthier body” That subtle shift in mindset has gone a long way. Ideally, joining a gym, or finding a group to workout with would be even better to strengthen this habit, but unfortunately all gyms are closed where I live, so I’m kind of on my own for now with these two tools. Next, making it easy. Using the 2 minute rule, to make sure I don’t end up like most people starting a new habit, that try to do too much too soon. I want my habit to not feel like a challenge at all. My 2 minute rule was putting on my workout clothes and stretching. If that was the only thing I accomplished then that was fine, because I showed up. But you will quickly find that once you are there, you are now motivated to get the workout done. It is weird but the motivation seems to come after you get started. My mindset is focused on small 1 percent changes compounding into meaningful results AND that my systems will get me to the results, not vague goals. Remembering that my main focus at this point is just making sure I show up and start anchoring this habit in place. Once you are consistently showing up, increase the progression. To decrease friction, I made the rule that I’m not allowed to check my phone until the workout was complete. If I get distracted by emails or social media, It is one excuse and one step of friction between myself and the workout getting completed. Lastly, this was a game changer for me, priming the environment. When I place my shoes, yoga mat and dumbbells out the night before I skyrocket my show up and workout percentage. As soon as I place these items out the night before, I feel like the ritual has begun and the workout is already complete because I have zero excuses. So with those 3 phases of the loop systemized to get me to show up. I only had the last phase of the loop left to tackle. To make sure I keep repeating the habit. I use both of these tools somewhat together to close out the loop. I use a habit tracker, crossing the day off the calendar becomes the reward and it forces me to not want to break the chain. I also take a of picture of the calories I burnt and send the picture to my partner, and that feels satisfying. Mindset wise, I begin with identity and I remind myself after each workout that “I want to become the kind of person that enjoys fitness and doesn’t miss workouts” I don’t put all my focus on outcomes such as I want to be 10kg lighter by such and such a date. I also remind myself that I need to be patient for results and that I’m probably still somewhere in this Valley of disappointment before I will see results! So that is my personal system for morning workouts. I went through the same process with the reading habit, with a few minor changes. I used the habit stack. After [making a coffee] I will [read for 90 minutes] … making a coffee was my trigger cue for reading. My one space one use rule was reading on the balcony of my apartment. One of the best parts of my day is a nice cup of coffee in the morning. So this was the perfect thing to bundle the habit with. Remembering how dopamine raises in anticipation of a reward and not the reward itself. I wanted this dopamine spike for wanting coffee to start becoming associated with reading. My 2 minute rule was to read 1 page of The Daily Stoic by Ryan Holiday. Super simple, again in the beginning all I was concerned with was showing up and getting this habit anchored. Then I slowly built up the habit to around 90 minutes. For the bad habit I was trying to eliminate To make the habit invisible, I started by making my phone as boring as possible, which required deleting a lot of apps. I use the reprogramming tool, to highlight the unattractive side of overconsuming social media. Telling myself things like… … consuming is the easy and lazy option of the masses ,producing things is difficult but rewarding. Do I want to be a consumer or a producer? Random scrolling through feeds is for losers. So try to paint your bad habit in a light that makes it super unattractive to keep doing. To increase friction, I left my phone out of sight whilst working in a drawer in another room. To make it unsatisfying, I have an accountability partner, I get my partner to enforce this habit. The punishment is If she sees me using social media during work time, I owe her $10. So that is how I have been using this fantastic book guys with great results so far, and I hope this summary has helped you to better understand the concepts within this book. Go out and grab a copy of this book if you haven't already, you are going to take in the knowledge at a much deeper level, from all the stories and examples that James Clear goes over some advanced techniques, not in this summary that will help you strengthen your habits. Thankyou for watching. See you in the next video.\n",
      "        This is the end of the transcript.\n",
      "        \n"
     ]
    }
   ],
   "source": [
    "prompt3 = f'''\n",
    "        Please give detailed summary and add punctuation to the following video transcript.\n",
    "        This is the start of the transcript.\n",
    "        {para}\n",
    "        This is the end of the transcript.\n",
    "        '''\n",
    "print(prompt3)"
   ]
  },
  {
   "cell_type": "code",
   "execution_count": 58,
   "id": "d97259bf-0f24-475e-8e2a-cd4f6298629f",
   "metadata": {
    "scrolled": true
   },
   "outputs": [
    {
     "name": "stdout",
     "output_type": "stream",
     "text": [
      "The video transcript discusses the challenges of forming and breaking habits, focusing on the book \"Atomic Habits\" by James Clear. It delves into the importance of small changes compounding over time, the Habit Loop (Cue, Craving, Response, Reward), and the 4 laws of behavior change: Make it obvious, Make it attractive, Make it easy, and Make it satisfying. The transcript also covers strategies such as Temptation bundling, Group Influence, and the Two-Minute Rule to stop procrastinating. It emphasizes the significance of visual measures, habit tracking, and accountability partners in maintaining habits. The speaker shares personal experiences in applying the book's principles to develop good habits like consistent workouts and reading routines while eliminating distractions like overconsumption of social media. The summary highlights the book's insights on reprogramming the brain, reducing friction, and creating systems to reinforce positive habits.\n"
     ]
    }
   ],
   "source": [
    "# make api call for prompt1\n",
    "response =  openai.chat.completions.create(\n",
    "    model=\"gpt-3.5-turbo\",\n",
    "    messages=[\n",
    "        {\"role\": \"system\", \"content\": \"You are an expert writer who can summarize complex thoughts into lucid and readable content\"},\n",
    "        {\"role\": \"user\", \"content\": prompt1}\n",
    "            ], \n",
    "    temperature = 0.25\n",
    ")\n",
    "\n",
    "\n",
    "# extract response\n",
    "youtube_summary = response.choices[0].message.content\n",
    "print(youtube_summary)"
   ]
  },
  {
   "cell_type": "code",
   "execution_count": 51,
   "id": "a227a672-4233-4799-b846-5b4d8a661c55",
   "metadata": {},
   "outputs": [
    {
     "name": "stdout",
     "output_type": "stream",
     "text": [
      "- The transcript discusses the struggle of achieving personal growth and breaking bad habits, particularly around New Year's resolutions.\n",
      "- It introduces the book \"Atomic Habits\" by James Clear as a guide to transforming habits and achieving desired outcomes.\n",
      "- The concept of small changes compounding over time is likened to adjusting a plane's trajectory by a few degrees.\n",
      "- The importance of focusing on systems over goals is emphasized, with examples of how habits shape one's identity.\n",
      "- The Habit Loop is explained as Cue + Craving + Response + Reward, with strategies to create positive feedback loops.\n",
      "- The 4 Laws of Behavior Change are outlined: Make it obvious, Make it attractive, Make it easy, and Make it satisfying.\n",
      "- Strategies like temptation bundling, group influence, and reducing friction are discussed to make habit formation easier.\n",
      "- The importance of immediate rewards and visual measures to reinforce habits is highlighted.\n",
      "- Tips for recovering from habit breakdowns and breaking bad habits are provided, including accountability and habit contracts.\n",
      "- The speaker shares personal examples of applying the book's principles to develop good habits and eliminate bad ones.\n",
      "- The importance of mindset, environment design, and habit tracking in building successful habits is emphasized.\n",
      "- The speaker encourages viewers to read \"Atomic Habits\" for a deeper understanding of habit formation and improvement.\n"
     ]
    }
   ],
   "source": [
    "# make api call for prompt2\n",
    "response =  openai.chat.completions.create(\n",
    "    model=\"gpt-3.5-turbo\",\n",
    "    messages=[\n",
    "        {\"role\": \"system\", \"content\": \"You are an expert writer who can summarize complex thoughts into lucid and readable content\"},\n",
    "        {\"role\": \"user\", \"content\": prompt2}\n",
    "            ], \n",
    "    temperature = 0.25\n",
    ")\n",
    "\n",
    "\n",
    "# extract response\n",
    "youtube_summary = response.choices[0].message.content\n",
    "print(youtube_summary)"
   ]
  },
  {
   "cell_type": "code",
   "execution_count": 55,
   "id": "360a44a8-d9b3-413c-b88f-a89de700df4d",
   "metadata": {},
   "outputs": [
    {
     "name": "stdout",
     "output_type": "stream",
     "text": [
      "The video transcript discusses the challenges of personal growth and habit formation, focusing on the book \"Atomic Habits\" by James Clear. It delves into the importance of making small changes in habits to alter the trajectory of one's life. The transcript emphasizes the power of incremental improvements over massive actions and the significance of focusing on systems rather than goals.\n",
      "\n",
      "It explores the Habit Loop, which consists of Cue, Craving, Response, and Reward, and provides strategies to create effective feedback loops for habit formation. The transcript also covers the laws of habit formation, including making habits obvious, attractive, easy, and satisfying. It highlights the role of dopamine in motivation and the importance of reducing friction to make good habits more likely to occur.\n",
      "\n",
      "Additionally, it discusses the concept of temptation bundling, group influence, and primal motivators in shaping behavior. The transcript emphasizes the need to focus on progress over perfection and the significance of monitoring habits through visual measures. It also provides insights on recovering from setbacks and breaking bad habits by making them unsatisfying.\n",
      "\n",
      "The transcript concludes with a personal example of applying the principles from the book to develop good habits and eliminate bad ones. It emphasizes the importance of creating systems around habits and using tools like habit stacking, habit tracking, and environmental priming to reinforce positive behaviors.\n"
     ]
    }
   ],
   "source": [
    "# make api call for prompt3\n",
    "response =  openai.chat.completions.create(\n",
    "    model=\"gpt-3.5-turbo\",\n",
    "    messages=[\n",
    "        {\"role\": \"system\", \"content\": \"You are an expert writer who can summarize complex thoughts into lucid and readable content\"},\n",
    "        {\"role\": \"user\", \"content\": prompt3}\n",
    "            ], \n",
    "    temperature = 0.25\n",
    ")\n",
    "\n",
    "\n",
    "# extract response\n",
    "youtube_summary = response.choices[0].message.content\n",
    "print(youtube_summary)"
   ]
  },
  {
   "cell_type": "code",
   "execution_count": 59,
   "id": "6163bd7d-d231-4273-8677-35018324b7e0",
   "metadata": {},
   "outputs": [
    {
     "name": "stdout",
     "output_type": "stream",
     "text": [
      "The video transcript discusses the challenges people face in achieving their desired goals and becoming the person they dream of being. It introduces the book \"Atomic Habits\" by James Clear as a guide to breaking free from bad habits and making desired habits automatic. The transcript delves into various topics such as habit loops, dopamine spikes, priming the environment, and more.\n",
      "\n",
      "The speaker emphasizes the power of making small, consistent improvements over time rather than relying on massive actions for success. The concept of compounding habits is highlighted, showing how 1% improvements daily can lead to significant progress over time. The importance of focusing on systems rather than just goals is also discussed, emphasizing the role of habits in shaping one's identity and behavior.\n",
      "\n",
      "The Habit Loop is explained as a continuous feedback loop involving cues, cravings, responses, and rewards. Strategies to create effective habits include making habits obvious, attractive, easy, and satisfying. The importance of reducing friction, priming the environment, and using accountability partners to reinforce desired habits is also emphasized.\n",
      "\n",
      "The transcript provides a detailed example of how the speaker applied the principles from the book to develop good habits like consistent workouts and reading routines while eliminating the bad habit of overconsuming social media. The speaker shares personal strategies such as habit stacking, using the 2-minute rule, and creating a habit tracker to monitor progress and stay motivated.\n",
      "\n",
      "Overall, the transcript offers a comprehensive overview of the key concepts from \"Atomic Habits\" and provides practical insights on how to implement these strategies in daily life to achieve lasting behavior change and personal growth.\n"
     ]
    }
   ],
   "source": [
    "# make api call for prompt3\n",
    "response =  openai.chat.completions.create(\n",
    "    model=\"gpt-3.5-turbo\",\n",
    "    messages=[\n",
    "        {\"role\": \"system\", \"content\": \"You are an expert writer who can write complex thoughts into lucid and readable content\"},\n",
    "        {\"role\": \"user\", \"content\": prompt3}\n",
    "            ], \n",
    "    temperature = 0.25\n",
    ")\n",
    "\n",
    "\n",
    "# extract response\n",
    "youtube_summary = response.choices[0].message.content\n",
    "print(youtube_summary)"
   ]
  },
  {
   "cell_type": "code",
   "execution_count": 60,
   "id": "002c7eb5-41e1-4611-a767-2b2b31aaf3a1",
   "metadata": {},
   "outputs": [
    {
     "name": "stdout",
     "output_type": "stream",
     "text": [
      "The video transcript provides a comprehensive summary of \"Atomic Habits\" by James Clear, focusing on how small, incremental changes in habits can lead to significant life transformations. The speaker begins by addressing a common feeling of stagnation, especially around New Year's resolutions, and poses the question of how to become the person one dreams of being. The solution, as proposed by James Clear, lies in understanding and applying the principles of habit formation.\n",
      "\n",
      "The speaker outlines key concepts from the book, starting with the idea that tiny changes in habits can drastically alter one's life trajectory, much like a plane slightly off course can end up in a completely different destination. This highlights the power of \"atomic habits,\" which are small, consistent routines that compound over time to produce remarkable results. The speaker contrasts massive action with 1% improvements, emphasizing that small, daily changes are more effective than attempting large, immediate transformations.\n",
      "\n",
      "The transcript delves into the \"valley of disappointment,\" a phase where initial efforts seem to yield little progress, causing many to revert to old habits. Patience is crucial, as the most significant outcomes of compounding processes are often delayed. The speaker also discusses the importance of focusing on systems rather than goals, arguing that systems—processes that lead to results—are more reliable for achieving success than setting specific goals.\n",
      "\n",
      "The concept of identity-based habits is introduced, where the focus is on becoming the person you want to be rather than achieving specific outcomes. This involves changing one's identity and beliefs, which in turn naturally alters behaviors. The speaker explains the habit loop, consisting of cue, craving, response, and reward, and how understanding this loop can help in forming new habits and breaking old ones.\n",
      "\n",
      "The transcript outlines four laws of behavior change from the book:\n",
      "\n",
      "1. **Make it Obvious**: Recognize and track current habits using a habit scorecard. Use clear intentions and habit stacking to create new habits.\n",
      "\n",
      "2. **Make it Attractive**: Increase the appeal of good habits through dopamine-driven feedback loops and temptation bundling, which pairs desired habits with enjoyable activities.\n",
      "\n",
      "3. **Make it Easy**: Reduce friction by simplifying habits and using the two-minute rule to make starting new habits easier.\n",
      "\n",
      "4. **Make it Satisfying**: Ensure immediate rewards for good habits to reinforce them, and use habit trackers to visualize progress.\n",
      "\n",
      "The speaker shares personal experiences of applying these principles to develop good habits, like consistent workouts and reading routines, and to eliminate bad habits, such as overconsuming social media. They emphasize the importance of designing one's environment to support desired habits and using accountability partners to maintain discipline.\n",
      "\n",
      "In conclusion, the speaker encourages viewers to read \"Atomic Habits\" for a deeper understanding of the concepts and to apply the strategies to their own lives for lasting change. The video ends with a call to action to purchase the book and a thank you to the audience for watching.\n"
     ]
    }
   ],
   "source": [
    "# make api call for prompt3 with GPT 4o\n",
    "response =  openai.chat.completions.create(\n",
    "    model=\"gpt-4o\",\n",
    "    messages=[\n",
    "        {\"role\": \"system\", \"content\": \"You are an expert writer who can write complex thoughts into lucid and readable content\"},\n",
    "        {\"role\": \"user\", \"content\": prompt3}\n",
    "            ], \n",
    "    temperature = 0.25\n",
    ")\n",
    "\n",
    "\n",
    "# extract response\n",
    "youtube_summary = response.choices[0].message.content\n",
    "print(youtube_summary)"
   ]
  },
  {
   "cell_type": "markdown",
   "id": "62290ea2-e759-4ec1-8304-16919e138b9c",
   "metadata": {},
   "source": [
    "# Youtube API"
   ]
  },
  {
   "cell_type": "code",
   "execution_count": null,
   "id": "35624fb4-56f9-4106-beeb-682a71f67493",
   "metadata": {},
   "outputs": [],
   "source": [
    "GET https://www.googleapis.com/youtube/v3/captions?part=snippet&videoId=VIDEO_ID&key=YOUR_API_KEY\n",
    "GET https://www.googleapis.com/youtube/v3/captions/ID?tfmt=srt&key=YOUR_API_KEY\n"
   ]
  }
 ],
 "metadata": {
  "kernelspec": {
   "display_name": "Python 3 (ipykernel)",
   "language": "python",
   "name": "python3"
  },
  "language_info": {
   "codemirror_mode": {
    "name": "ipython",
    "version": 3
   },
   "file_extension": ".py",
   "mimetype": "text/x-python",
   "name": "python",
   "nbconvert_exporter": "python",
   "pygments_lexer": "ipython3",
   "version": "3.12.2"
  }
 },
 "nbformat": 4,
 "nbformat_minor": 5
}
